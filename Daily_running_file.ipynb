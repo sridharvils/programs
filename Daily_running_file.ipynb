{
 "cells": [
  {
   "cell_type": "code",
   "execution_count": 1,
   "metadata": {
    "collapsed": false
   },
   "outputs": [
    {
     "name": "stdout",
     "output_type": "stream",
     "text": [
      "07/24/2017\n"
     ]
    }
   ],
   "source": [
    "import datetime, os\n",
    "import pandas as pd\n",
    "import csv\n",
    "import numpy as np\n",
    "from datetime import date\n",
    "import calendar\n",
    "import urllib\n",
    "import zipfile\n",
    "pd.options.mode.chained_assignment = None\n",
    "\n",
    "from share_fns import *\n",
    "\n",
    "c= os.getcwd()\n",
    "ext = os.path.join(os.path.expanduser('~'), c, 'Bhavcopy_data', 'Extracted','')\n",
    "full = os.path.join(os.path.expanduser('~'), c, 'Bhavcopy_data', 'Full','')\n",
    "dout = os.path.join(os.path.expanduser('~'), c, 'Bhavcopy_data', 'Dailyoutputs','')\n",
    "os.chdir(full)\n",
    "\n",
    "dffull = pd.read_csv('2017_full.csv')\n",
    "date = dffull.DATE.sort_values(ascending=0).head(1).item()\n",
    "print(date)\n",
    "\n",
    "os.chdir(c)\n",
    "df = pd.read_csv('niftymidcap50list_wc.csv')\n",
    "df = df[['Symbol','SC_CODE']].sort_values(by = 'SC_CODE').reset_index(drop = True)"
   ]
  },
  {
   "cell_type": "code",
   "execution_count": 2,
   "metadata": {
    "collapsed": false
   },
   "outputs": [],
   "source": [
    "#marubozo(df, dffull, variation on high-close and low-open(var=0.01), variation on open-close(oc=0.05))\n",
    "df['Maru%'] = marubozo(df,dffull,oc=0.02)\n",
    "\n",
    "df['Hangman'] = hangingman(df,dffull)\n",
    "df['Bullisheng'] = bullisheng(df,dffull)\n",
    "df['Pearcing'] = pearcingpattern(df,dffull)\n",
    "df['Volpercent'] = volumepercent(df,dffull,n = 10)\n",
    "df['RSI'] =rsifun(df,dffull,n=14)\n",
    "#df.head()"
   ]
  },
  {
   "cell_type": "code",
   "execution_count": 3,
   "metadata": {
    "collapsed": false
   },
   "outputs": [
    {
     "name": "stderr",
     "output_type": "stream",
     "text": [
      "/home/sridhar/anaconda2/lib/python2.7/site-packages/matplotlib/font_manager.py:273: UserWarning: Matplotlib is building the font cache using fc-list. This may take a moment.\n",
      "  warnings.warn('Matplotlib is building the font cache using fc-list. This may take a moment.')\n"
     ]
    }
   ],
   "source": [
    "dfforplot = df[df['Hangman']==1]\n",
    "for a in dfforplot.SC_CODE:\n",
    "    plotcandlestick(a,dffull)"
   ]
  },
  {
   "cell_type": "code",
   "execution_count": 4,
   "metadata": {
    "collapsed": true
   },
   "outputs": [],
   "source": [
    "df.to_csv(dout +'niftymidcap24072017.csv') "
   ]
  },
  {
   "cell_type": "code",
   "execution_count": null,
   "metadata": {
    "collapsed": true
   },
   "outputs": [],
   "source": []
  }
 ],
 "metadata": {
  "kernelspec": {
   "display_name": "Python 2",
   "language": "python",
   "name": "python2"
  },
  "language_info": {
   "codemirror_mode": {
    "name": "ipython",
    "version": 2
   },
   "file_extension": ".py",
   "mimetype": "text/x-python",
   "name": "python",
   "nbconvert_exporter": "python",
   "pygments_lexer": "ipython2",
   "version": "2.7.12"
  }
 },
 "nbformat": 4,
 "nbformat_minor": 2
}
